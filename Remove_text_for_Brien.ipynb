{
 "cells": [
  {
   "cell_type": "code",
   "execution_count": 6,
   "metadata": {},
   "outputs": [
    {
     "name": "stdout",
     "output_type": "stream",
     "text": [
      "Collecting opencv-python\n",
      "  Downloading opencv_python-4.5.5.62-cp36-abi3-win_amd64.whl (35.4 MB)\n",
      "Requirement already satisfied: numpy>=1.14.5; python_version >= \"3.7\" in c:\\users\\stink\\anaconda3\\lib\\site-packages (from opencv-python) (1.19.2)\n",
      "Installing collected packages: opencv-python\n",
      "Successfully installed opencv-python-4.5.5.62\n",
      "Note: you may need to restart the kernel to use updated packages.\n"
     ]
    }
   ],
   "source": [
    "pip install opencv-python"
   ]
  },
  {
   "cell_type": "code",
   "execution_count": 1,
   "metadata": {},
   "outputs": [],
   "source": [
    "#Note to self: Nothing OTHER than \"pip install dependency\" is allowed in a cell. It must be that command and nothing else!"
   ]
  },
  {
   "cell_type": "code",
   "execution_count": null,
   "metadata": {},
   "outputs": [],
   "source": [
    "import cv2 as cv2\n",
    "import numpy as np\n",
    "\n",
    "#Be sure to use foward \"/\" here\n",
    "img = cv2.imread(\"C:/Users/stink/Desktop/WSU/2022 Spring/Managing Software Project/Uranium Photos/Q025558C9220U01.png\")\n",
    "\n",
    "\n",
    "#Unaltered code, if Ashton wants to upload his own additions he can call it version 0.2\n",
    "#Currently version 0.1\n",
    "\n",
    "\n",
    "# Load image, convert to HSV format, define lower/upper ranges, and perform\n",
    "# color segmentation to create a binary mask\n",
    "hsv = cv2.cvtColor(img, cv2.COLOR_BGR2HSV)\n",
    "lower = np.array([0, 0, 218])\n",
    "upper = np.array([157, 54, 255])\n",
    "mask = cv2.inRange(hsv, lower, upper)\n",
    "\n",
    "# Create horizontal kernel and dilate to connect text characters\n",
    "kernel = cv2.getStructuringElement(cv2.MORPH_RECT, (5,3))\n",
    "dilate = cv2.dilate(mask, kernel, iterations=5)\n",
    "\n",
    "# Find contours and filter using aspect ratio\n",
    "# Remove non-text contours by filling in the contour\n",
    "cnts = cv2.findContours(dilate, cv2.RETR_EXTERNAL, cv2.CHAIN_APPROX_SIMPLE)\n",
    "cnts = cnts[0] if len(cnts) == 2 else cnts[1]\n",
    "for c in cnts:\n",
    "    x,y,w,h = cv2.boundingRect(c)\n",
    "    ar = w / float(h)\n",
    "    if ar < 5:\n",
    "        cv2.drawContours(dilate, [c], -1, (0,0,0), -1)\n",
    "\n",
    "\n",
    "#display images\n",
    "cv2.namedWindow('image', cv2.WINDOW_NORMAL)\n",
    "cv2.namedWindow('mask', cv2.WINDOW_NORMAL)\n",
    "cv2.imshow(\"image\", img)\n",
    "cv2.imshow(\"mask\", dilate)\n",
    "cv2.waitKey(0)\n",
    "cv2.destroyAllWindows()"
   ]
  },
  {
   "cell_type": "code",
   "execution_count": null,
   "metadata": {},
   "outputs": [],
   "source": []
  }
 ],
 "metadata": {
  "kernelspec": {
   "display_name": "Python 3",
   "language": "python",
   "name": "python3"
  },
  "language_info": {
   "codemirror_mode": {
    "name": "ipython",
    "version": 3
   },
   "file_extension": ".py",
   "mimetype": "text/x-python",
   "name": "python",
   "nbconvert_exporter": "python",
   "pygments_lexer": "ipython3",
   "version": "3.8.5"
  }
 },
 "nbformat": 4,
 "nbformat_minor": 4
}
