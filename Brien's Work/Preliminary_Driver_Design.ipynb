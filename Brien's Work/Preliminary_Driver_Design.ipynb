{
 "cells": [
  {
   "cell_type": "code",
   "execution_count": null,
   "id": "aecdd5ca",
   "metadata": {},
   "outputs": [],
   "source": [
    "def main_driver():\n",
    "    \n",
    "    # Open up shell to take input\n",
    "    # Could also be functions\n",
    "    # Needs more design\n",
    "    \n",
    "    defined_dir = mak_function.py\n",
    "    defined_output_dir = nick_function.py\n",
    "    \n",
    "    #Coutner for failed removal (ashtons_remove_text = ART)\n",
    "    ART_failed = 0\n",
    "    \n",
    "    #Counter for num of pictures\n",
    "    num_pictures = 0\n",
    "    \n",
    "    for image in defined_dir\n",
    "        \n",
    "        num_pictures++\n",
    "        \n",
    "        mask_image, original_image, this_ART_failed = ashtons_remove_text(image, image, ART_failed)\n",
    "        \n",
    "        final_image = brien_shivani_function(mask_image, original_image)\n",
    "        \n",
    "        # Send to output directory or whatever location you guys want. \n",
    "        # Not sure how to send this file to a directory. Need research. \n",
    "        \n",
    "    # Analytics\n",
    "    success_rate = num_pictures/ART_failed\n",
    "        "
   ]
  }
 ],
 "metadata": {
  "kernelspec": {
   "display_name": "Python 3",
   "language": "python",
   "name": "python3"
  },
  "language_info": {
   "codemirror_mode": {
    "name": "ipython",
    "version": 3
   },
   "file_extension": ".py",
   "mimetype": "text/x-python",
   "name": "python",
   "nbconvert_exporter": "python",
   "pygments_lexer": "ipython3",
   "version": "3.8.8"
  }
 },
 "nbformat": 4,
 "nbformat_minor": 5
}
